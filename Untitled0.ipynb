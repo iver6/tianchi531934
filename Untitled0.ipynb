{
  "cells": [
    {
      "cell_type": "markdown",
      "metadata": {
        "colab_type": "text",
        "id": "view-in-github"
      },
      "source": [
        "<a href=\"https://colab.research.google.com/github/iver6/tianchi531934/blob/main/Untitled0.ipynb\" target=\"_parent\"><img src=\"https://colab.research.google.com/assets/colab-badge.svg\" alt=\"Open In Colab\"/></a>"
      ]
    },
    {
      "cell_type": "code",
      "execution_count": null,
      "metadata": {
        "id": "pN91QDgfoKpW"
      },
      "outputs": [],
      "source": []
    },
    {
      "cell_type": "code",
      "execution_count": 2,
      "metadata": {
        "id": "Qep-B1oboOWA"
      },
      "outputs": [],
      "source": [
        "import warnings\n",
        "import pandas as pd\n",
        "import numpy as np\n",
        "from matplotlib import pyplot as plt\n",
        "import seaborn as sns\n",
        "import datetime\n",
        "from scipy import stats\n",
        "import os\n",
        "import platform\n",
        "\n",
        "%matplotlib inline\n",
        "warnings.filterwarnings(\"ignore\")\n",
        "pd.set_option('display.max_colwidth',100)"
      ]
    },
    {
      "cell_type": "code",
      "execution_count": 15,
      "metadata": {},
      "outputs": [
        {
          "data": {
            "text/plain": [
              "'Darwin'"
            ]
          },
          "execution_count": 15,
          "metadata": {},
          "output_type": "execute_result"
        }
      ],
      "source": [
        "if platform.system() == 'Darwin':\n",
        "    run_in_colab = 0\n",
        "else \n",
        "    run_in_colab = 1"
      ]
    },
    {
      "cell_type": "code",
      "execution_count": null,
      "metadata": {
        "id": "3sxbQ0nGoO8N"
      },
      "outputs": [],
      "source": [
        "run_in_colab = 1"
      ]
    },
    {
      "cell_type": "code",
      "execution_count": null,
      "metadata": {
        "colab": {
          "base_uri": "https://localhost:8080/"
        },
        "id": "FFhKn7ZNoPk4",
        "outputId": "9daed753-2992-452f-962d-56a931c2f4da"
      },
      "outputs": [
        {
          "name": "stdout",
          "output_type": "stream",
          "text": [
            "Mounted at /gdrive\n"
          ]
        }
      ],
      "source": [
        "\n",
        "if run_in_colab == 1:\n",
        "    from google.colab import drive\n",
        "    drive.mount('/gdrive')"
      ]
    },
    {
      "cell_type": "code",
      "execution_count": null,
      "metadata": {
        "id": "9U6IEAaqoWIN"
      },
      "outputs": [],
      "source": [
        "\n",
        "if run_in_colab == 1:\n",
        "    demand_train_A = pd.read_csv('/gdrive/MyDrive/datasci/Competitions/tianchi/531934需求预测及单级库存优化/demand_train_A.csv')\n",
        "\n",
        "    demand_test_A = pd.read_csv('/gdrive/MyDrive/datasci/Competitions/tianchi/531934需求预测及单级库存优化/demand_test_A.csv')\n",
        "    geo_topo = pd.read_csv('/gdrive/MyDrive/datasci/Competitions/tianchi/531934需求预测及单级库存优化/geo_topo.csv')\n",
        "    inventory_info_A = pd.read_csv('/gdrive/MyDrive/datasci/Competitions/tianchi/531934需求预测及单级库存优化/inventory_info_A.csv')\n",
        "    product_topo = pd.read_csv('/gdrive/MyDrive/datasci/Competitions/tianchi/531934需求预测及单级库存优化/product_topo.csv')\n",
        "    weight_A = pd.read_csv('/gdrive/MyDrive/datasci/Competitions/tianchi/531934需求预测及单级库存优化/weight_A.csv')\n",
        "else:\n",
        "    demand_train_A = pd.read_csv('data/demand_train_A.csv')\n",
        "demand_train_A.drop(['Unnamed: 0'],axis=1,inplace=True)\n",
        "demand_train_A['ts'] = pd.to_datetime(demand_train_A['ts'] )"
      ]
    },
    {
      "cell_type": "code",
      "execution_count": null,
      "metadata": {
        "colab": {
          "base_uri": "https://localhost:8080/",
          "height": 204
        },
        "id": "Ysi55J3qre5g",
        "outputId": "94b46161-f500-4240-9406-61b6c19fd473"
      },
      "outputs": [
        {
          "data": {
            "text/html": [
              "<div>\n",
              "<style scoped>\n",
              "    .dataframe tbody tr th:only-of-type {\n",
              "        vertical-align: middle;\n",
              "    }\n",
              "\n",
              "    .dataframe tbody tr th {\n",
              "        vertical-align: top;\n",
              "    }\n",
              "\n",
              "    .dataframe thead th {\n",
              "        text-align: right;\n",
              "    }\n",
              "</style>\n",
              "<table border=\"1\" class=\"dataframe\">\n",
              "  <thead>\n",
              "    <tr style=\"text-align: right;\">\n",
              "      <th></th>\n",
              "      <th>Unnamed: 0</th>\n",
              "      <th>unit</th>\n",
              "      <th>ts</th>\n",
              "      <th>qty</th>\n",
              "      <th>geography_level</th>\n",
              "      <th>geography</th>\n",
              "      <th>product_level</th>\n",
              "      <th>product</th>\n",
              "    </tr>\n",
              "  </thead>\n",
              "  <tbody>\n",
              "    <tr>\n",
              "      <th>0</th>\n",
              "      <td>0</td>\n",
              "      <td>b035f859cf03840b75abd80dc1cf3e94</td>\n",
              "      <td>2021-03-01</td>\n",
              "      <td>0</td>\n",
              "      <td>geography_level_3</td>\n",
              "      <td>e77f818445598d8b37ebda4c72645900</td>\n",
              "      <td>product_level_2</td>\n",
              "      <td>b04c1602cb78c1c4cf72dd7c0ce7d837</td>\n",
              "    </tr>\n",
              "    <tr>\n",
              "      <th>1</th>\n",
              "      <td>1</td>\n",
              "      <td>828ac2ac9ea800ea61e6c0bf0da57a6f</td>\n",
              "      <td>2021-03-01</td>\n",
              "      <td>0</td>\n",
              "      <td>geography_level_3</td>\n",
              "      <td>f05fa82955925441f3a4c9d7092fa5f5</td>\n",
              "      <td>product_level_2</td>\n",
              "      <td>b04c1602cb78c1c4cf72dd7c0ce7d837</td>\n",
              "    </tr>\n",
              "    <tr>\n",
              "      <th>2</th>\n",
              "      <td>2</td>\n",
              "      <td>86fec8ee07c5cf36f259fae08bf1bd14</td>\n",
              "      <td>2021-03-01</td>\n",
              "      <td>53</td>\n",
              "      <td>geography_level_3</td>\n",
              "      <td>cfcb575b4a1fc05255ef88307ffbeaa9</td>\n",
              "      <td>product_level_2</td>\n",
              "      <td>be55b932f63b0feda2a190154290d4aa</td>\n",
              "    </tr>\n",
              "    <tr>\n",
              "      <th>3</th>\n",
              "      <td>3</td>\n",
              "      <td>52146622c33726498164d83c10307c01</td>\n",
              "      <td>2021-03-01</td>\n",
              "      <td>15</td>\n",
              "      <td>geography_level_3</td>\n",
              "      <td>e77f818445598d8b37ebda4c72645900</td>\n",
              "      <td>product_level_2</td>\n",
              "      <td>be55b932f63b0feda2a190154290d4aa</td>\n",
              "    </tr>\n",
              "    <tr>\n",
              "      <th>4</th>\n",
              "      <td>4</td>\n",
              "      <td>ccd0f768f7a21a7fd3530fa0711f2fb1</td>\n",
              "      <td>2021-03-01</td>\n",
              "      <td>3</td>\n",
              "      <td>geography_level_3</td>\n",
              "      <td>cfcb575b4a1fc05255ef88307ffbeaa9</td>\n",
              "      <td>product_level_2</td>\n",
              "      <td>b04c1602cb78c1c4cf72dd7c0ce7d837</td>\n",
              "    </tr>\n",
              "  </tbody>\n",
              "</table>\n",
              "</div>"
            ],
            "text/plain": [
              "   Unnamed: 0  ...                           product\n",
              "0           0  ...  b04c1602cb78c1c4cf72dd7c0ce7d837\n",
              "1           1  ...  b04c1602cb78c1c4cf72dd7c0ce7d837\n",
              "2           2  ...  be55b932f63b0feda2a190154290d4aa\n",
              "3           3  ...  be55b932f63b0feda2a190154290d4aa\n",
              "4           4  ...  b04c1602cb78c1c4cf72dd7c0ce7d837\n",
              "\n",
              "[5 rows x 8 columns]"
            ]
          },
          "execution_count": 4,
          "metadata": {},
          "output_type": "execute_result"
        }
      ],
      "source": [
        "inventory_info_A.head()"
      ]
    },
    {
      "cell_type": "code",
      "execution_count": null,
      "metadata": {
        "colab": {
          "base_uri": "https://localhost:8080/",
          "height": 204
        },
        "id": "5Q2odVJ-ox0G",
        "outputId": "caacf289-540b-42ce-fc6c-63137a9d5dcb"
      },
      "outputs": [
        {
          "data": {
            "text/html": [
              "<div>\n",
              "<style scoped>\n",
              "    .dataframe tbody tr th:only-of-type {\n",
              "        vertical-align: middle;\n",
              "    }\n",
              "\n",
              "    .dataframe tbody tr th {\n",
              "        vertical-align: top;\n",
              "    }\n",
              "\n",
              "    .dataframe thead th {\n",
              "        text-align: right;\n",
              "    }\n",
              "</style>\n",
              "<table border=\"1\" class=\"dataframe\">\n",
              "  <thead>\n",
              "    <tr style=\"text-align: right;\">\n",
              "      <th></th>\n",
              "      <th>unit</th>\n",
              "      <th>ts</th>\n",
              "      <th>qty</th>\n",
              "      <th>geography_level</th>\n",
              "      <th>geography</th>\n",
              "      <th>product_level</th>\n",
              "      <th>product</th>\n",
              "    </tr>\n",
              "  </thead>\n",
              "  <tbody>\n",
              "    <tr>\n",
              "      <th>0</th>\n",
              "      <td>9b8f48bacb1a63612f3a210ccc6286cc</td>\n",
              "      <td>2018-06-04</td>\n",
              "      <td>11926.8286</td>\n",
              "      <td>geography_level_3</td>\n",
              "      <td>36ab7b000da26b0547bfc3c3fdf143dc</td>\n",
              "      <td>product_level_2</td>\n",
              "      <td>5cc8015f03554313900f069182bdaf9c</td>\n",
              "    </tr>\n",
              "    <tr>\n",
              "      <th>1</th>\n",
              "      <td>b973094393eae680766fa9db100285af</td>\n",
              "      <td>2018-06-04</td>\n",
              "      <td>6282.7266</td>\n",
              "      <td>geography_level_3</td>\n",
              "      <td>ec258532d911270434f328606cba61b6</td>\n",
              "      <td>product_level_2</td>\n",
              "      <td>5cc8015f03554313900f069182bdaf9c</td>\n",
              "    </tr>\n",
              "    <tr>\n",
              "      <th>2</th>\n",
              "      <td>6d993338e26ab71e9e3f24f52401d67c</td>\n",
              "      <td>2018-06-04</td>\n",
              "      <td>285.3290</td>\n",
              "      <td>geography_level_3</td>\n",
              "      <td>22ec2860549baef5c3e9af46967a3e1d</td>\n",
              "      <td>product_level_2</td>\n",
              "      <td>5cc8015f03554313900f069182bdaf9c</td>\n",
              "    </tr>\n",
              "    <tr>\n",
              "      <th>3</th>\n",
              "      <td>d1dae0ff07a164b729f3c032a21e8e1a</td>\n",
              "      <td>2018-06-04</td>\n",
              "      <td>6672.6452</td>\n",
              "      <td>geography_level_3</td>\n",
              "      <td>50cebc1429231eda4384a84ca4deb751</td>\n",
              "      <td>product_level_2</td>\n",
              "      <td>5cc8015f03554313900f069182bdaf9c</td>\n",
              "    </tr>\n",
              "    <tr>\n",
              "      <th>4</th>\n",
              "      <td>bf7701bc211c2ecc4314ca02f6ef1cef</td>\n",
              "      <td>2018-06-04</td>\n",
              "      <td>15204.5902</td>\n",
              "      <td>geography_level_3</td>\n",
              "      <td>ee0ae2cafd8346e7e74950a6a6271a71</td>\n",
              "      <td>product_level_2</td>\n",
              "      <td>5cc8015f03554313900f069182bdaf9c</td>\n",
              "    </tr>\n",
              "  </tbody>\n",
              "</table>\n",
              "</div>"
            ],
            "text/plain": [
              "                               unit         ts         qty    geography_level  \\\n",
              "0  9b8f48bacb1a63612f3a210ccc6286cc 2018-06-04  11926.8286  geography_level_3   \n",
              "1  b973094393eae680766fa9db100285af 2018-06-04   6282.7266  geography_level_3   \n",
              "2  6d993338e26ab71e9e3f24f52401d67c 2018-06-04    285.3290  geography_level_3   \n",
              "3  d1dae0ff07a164b729f3c032a21e8e1a 2018-06-04   6672.6452  geography_level_3   \n",
              "4  bf7701bc211c2ecc4314ca02f6ef1cef 2018-06-04  15204.5902  geography_level_3   \n",
              "\n",
              "                          geography    product_level  \\\n",
              "0  36ab7b000da26b0547bfc3c3fdf143dc  product_level_2   \n",
              "1  ec258532d911270434f328606cba61b6  product_level_2   \n",
              "2  22ec2860549baef5c3e9af46967a3e1d  product_level_2   \n",
              "3  50cebc1429231eda4384a84ca4deb751  product_level_2   \n",
              "4  ee0ae2cafd8346e7e74950a6a6271a71  product_level_2   \n",
              "\n",
              "                            product  \n",
              "0  5cc8015f03554313900f069182bdaf9c  \n",
              "1  5cc8015f03554313900f069182bdaf9c  \n",
              "2  5cc8015f03554313900f069182bdaf9c  \n",
              "3  5cc8015f03554313900f069182bdaf9c  \n",
              "4  5cc8015f03554313900f069182bdaf9c  "
            ]
          },
          "execution_count": 7,
          "metadata": {},
          "output_type": "execute_result"
        }
      ],
      "source": [
        "demand_train_A.head()"
      ]
    },
    {
      "cell_type": "code",
      "execution_count": null,
      "metadata": {
        "colab": {
          "base_uri": "https://localhost:8080/",
          "height": 204
        },
        "id": "bMVy4QWgM_oZ",
        "outputId": "bf846cb1-d0fe-423c-d6e2-96bc24977ee0"
      },
      "outputs": [
        {
          "data": {
            "text/html": [
              "<div>\n",
              "<style scoped>\n",
              "    .dataframe tbody tr th:only-of-type {\n",
              "        vertical-align: middle;\n",
              "    }\n",
              "\n",
              "    .dataframe tbody tr th {\n",
              "        vertical-align: top;\n",
              "    }\n",
              "\n",
              "    .dataframe thead th {\n",
              "        text-align: right;\n",
              "    }\n",
              "</style>\n",
              "<table border=\"1\" class=\"dataframe\">\n",
              "  <thead>\n",
              "    <tr style=\"text-align: right;\">\n",
              "      <th></th>\n",
              "      <th>Unnamed: 0</th>\n",
              "      <th>unit</th>\n",
              "      <th>ts</th>\n",
              "      <th>qty</th>\n",
              "      <th>geography_level</th>\n",
              "      <th>geography</th>\n",
              "      <th>product_level</th>\n",
              "      <th>product</th>\n",
              "    </tr>\n",
              "  </thead>\n",
              "  <tbody>\n",
              "    <tr>\n",
              "      <th>0</th>\n",
              "      <td>0</td>\n",
              "      <td>0efede250ca3d05f9d4cc3609242d804</td>\n",
              "      <td>2021-03-02</td>\n",
              "      <td>3437.199978</td>\n",
              "      <td>geography_level_3</td>\n",
              "      <td>7b61250107b0ab94a35b9b80168df40d</td>\n",
              "      <td>product_level_2</td>\n",
              "      <td>1de8e43efce0cb9161ac2093f75166c8</td>\n",
              "    </tr>\n",
              "    <tr>\n",
              "      <th>1</th>\n",
              "      <td>1</td>\n",
              "      <td>fbb83aefc6f5d6f6bc22ae3ee757d327</td>\n",
              "      <td>2021-03-02</td>\n",
              "      <td>34.067925</td>\n",
              "      <td>geography_level_3</td>\n",
              "      <td>8b2bbea7dd24f1427bd37e74936047c7</td>\n",
              "      <td>product_level_2</td>\n",
              "      <td>646f301a50470456f3e7793f6b16ca76</td>\n",
              "    </tr>\n",
              "    <tr>\n",
              "      <th>2</th>\n",
              "      <td>2</td>\n",
              "      <td>392aaa20e70b4d7539cc7a2e09562521</td>\n",
              "      <td>2021-03-02</td>\n",
              "      <td>34.856490</td>\n",
              "      <td>geography_level_3</td>\n",
              "      <td>e77875a9e01c74e943c9ed3c346d1034</td>\n",
              "      <td>product_level_2</td>\n",
              "      <td>b04c1602cb78c1c4cf72dd7c0ce7d837</td>\n",
              "    </tr>\n",
              "    <tr>\n",
              "      <th>3</th>\n",
              "      <td>3</td>\n",
              "      <td>2effa036807329a88056093fabb07ce6</td>\n",
              "      <td>2021-03-02</td>\n",
              "      <td>36677.666667</td>\n",
              "      <td>geography_level_3</td>\n",
              "      <td>52b9c00ab15c967f2f49c5605800fef5</td>\n",
              "      <td>product_level_2</td>\n",
              "      <td>93a97f63f0a573483d49c58dc02c1341</td>\n",
              "    </tr>\n",
              "    <tr>\n",
              "      <th>4</th>\n",
              "      <td>4</td>\n",
              "      <td>7dc25ea61b4d47f7de6c7a8d8d559487</td>\n",
              "      <td>2021-03-02</td>\n",
              "      <td>56688.333333</td>\n",
              "      <td>geography_level_3</td>\n",
              "      <td>52b9c00ab15c967f2f49c5605800fef5</td>\n",
              "      <td>product_level_2</td>\n",
              "      <td>6c46c9c5d3ef936b4c8d6d8f9851e837</td>\n",
              "    </tr>\n",
              "  </tbody>\n",
              "</table>\n",
              "</div>"
            ],
            "text/plain": [
              "   Unnamed: 0  ...                           product\n",
              "0           0  ...  1de8e43efce0cb9161ac2093f75166c8\n",
              "1           1  ...  646f301a50470456f3e7793f6b16ca76\n",
              "2           2  ...  b04c1602cb78c1c4cf72dd7c0ce7d837\n",
              "3           3  ...  93a97f63f0a573483d49c58dc02c1341\n",
              "4           4  ...  6c46c9c5d3ef936b4c8d6d8f9851e837\n",
              "\n",
              "[5 rows x 8 columns]"
            ]
          },
          "execution_count": 4,
          "metadata": {},
          "output_type": "execute_result"
        }
      ],
      "source": [
        "demand_test_A.head()"
      ]
    },
    {
      "cell_type": "code",
      "execution_count": null,
      "metadata": {
        "colab": {
          "base_uri": "https://localhost:8080/"
        },
        "id": "amSnQw_cozml",
        "outputId": "b22ecd9e-b644-4fcb-f777-a37b94f42440"
      },
      "outputs": [
        {
          "name": "stdout",
          "output_type": "stream",
          "text": [
            "<class 'pandas.core.frame.DataFrame'>\n",
            "RangeIndex: 284832 entries, 0 to 284831\n",
            "Data columns (total 8 columns):\n",
            " #   Column           Non-Null Count   Dtype  \n",
            "---  ------           --------------   -----  \n",
            " 0   Unnamed: 0       284832 non-null  int64  \n",
            " 1   unit             284832 non-null  object \n",
            " 2   ts               284832 non-null  object \n",
            " 3   qty              284832 non-null  float64\n",
            " 4   geography_level  284832 non-null  object \n",
            " 5   geography        284832 non-null  object \n",
            " 6   product_level    284832 non-null  object \n",
            " 7   product          284832 non-null  object \n",
            "dtypes: float64(1), int64(1), object(6)\n",
            "memory usage: 17.4+ MB\n"
          ]
        }
      ],
      "source": [
        "demand_train_A.info()"
      ]
    },
    {
      "cell_type": "markdown",
      "metadata": {
        "id": "_lzR69OItd_J"
      },
      "source": [
        "632个unit\n",
        "\n",
        "日期从2018-06-04到2021-03-01共1002天，不是每个unit都有1002天的数据\n"
      ]
    },
    {
      "cell_type": "code",
      "execution_count": null,
      "metadata": {
        "colab": {
          "base_uri": "https://localhost:8080/"
        },
        "id": "RYqJC2hGrQ2V",
        "outputId": "6dcb793c-90d9-43f8-deb8-a2c4ea7938fa"
      },
      "outputs": [
        {
          "data": {
            "text/plain": [
              "06531cd4188630ce2497cd9983aacf5e    1002\n",
              "131bd106cdd38cafb8e6e460fc8aa68a    1002\n",
              "9b8f48bacb1a63612f3a210ccc6286cc    1002\n",
              "326cb18b045e5baefa90bbc2e8d52a32    1002\n",
              "fc136fddfa9df8b0577e9e44c776a5d9    1002\n",
              "                                    ... \n",
              "7d9cbb373fddba4ce2cddcec96bccbeb      54\n",
              "8ccf1c02bb050cb3fc4f13789cdfe235      49\n",
              "e9abc1de6bd24d10ebe608959d0e5bac      43\n",
              "5dbe225a546a680640eb5f7902b42cdd      43\n",
              "12f892a6de3f9cf4411fb9db4fdd6691      40\n",
              "Name: unit, Length: 632, dtype: int64"
            ]
          },
          "execution_count": 40,
          "metadata": {},
          "output_type": "execute_result"
        }
      ],
      "source": [
        "\n",
        "demand_train_A.unit.value_counts()"
      ]
    },
    {
      "cell_type": "code",
      "execution_count": null,
      "metadata": {
        "colab": {
          "base_uri": "https://localhost:8080/"
        },
        "id": "ynIWmmQmsjQk",
        "outputId": "21668977-83fc-4fff-b180-8edc0daf6e6f"
      },
      "outputs": [
        {
          "name": "stdout",
          "output_type": "stream",
          "text": [
            "2021-03-01\n",
            "2018-06-04\n"
          ]
        }
      ],
      "source": [
        "print(demand_train_A.ts.max())\n",
        "print(demand_train_A.ts.min())"
      ]
    },
    {
      "cell_type": "code",
      "execution_count": null,
      "metadata": {
        "colab": {
          "base_uri": "https://localhost:8080/"
        },
        "id": "SB_6b0TRfYwx",
        "outputId": "d9e37060-c92f-4786-9ab0-15cc3472dff5"
      },
      "outputs": [
        {
          "data": {
            "text/plain": [
              "1001"
            ]
          },
          "execution_count": 91,
          "metadata": {},
          "output_type": "execute_result"
        }
      ],
      "source": [
        "(demand_train_A.ts.max()-demand_train_A.ts.min()).days + 1"
      ]
    },
    {
      "cell_type": "code",
      "execution_count": null,
      "metadata": {
        "id": "QanLwm4ag6Bh"
      },
      "outputs": [],
      "source": [
        "#有部分unit不满1002条记录，看看有没有不连续的日期。\n",
        "#结果是没有\n",
        "for unit in demand_train_A.unit.drop_duplicates():\n",
        "    #print(tmppd.count().iloc[0])\n",
        "    tmppd = demand_train_A[demand_train_A.unit == unit]\n",
        "    if tmppd.count().iloc[0] != (tmppd.ts.max()-tmppd.ts.min()).days + 1:\n",
        "        print(unit)"
      ]
    },
    {
      "cell_type": "code",
      "execution_count": null,
      "metadata": {
        "id": "YKywA3bWsu8d"
      },
      "outputs": [],
      "source": [
        "#所有Unit都补全1002天的数据\n",
        "cols = demand_train_A.columns\n",
        "\n",
        "trainalldate = pd.DataFrame()\n",
        "\n",
        "for unit in demand_train_A.unit.drop_duplicates():\n",
        "    tmppd = pd.DataFrame(index=pd.date_range('2018-06-04',periods=1002))\n",
        "    tmppd['unit'] = unit\n",
        "    tmppd = tmppd.reset_index()\n",
        "    tmppd.columns = ['ts','unit']\n",
        "    tmppd = pd.merge(left = tmppd,right = demand_train_A[demand_train_A.unit == unit],how = 'left',on = ['ts','unit']\n",
        "        )\n",
        "    #tmppd.fillna(value={'qty':-1},inplace=True)\n",
        "    #tmppd.fillna(value={'qty':-1},method='bfill',inplace=True)\n",
        "    trainalldate = pd.concat([trainalldate,tmppd])\n",
        "    #break\n",
        "    "
      ]
    },
    {
      "cell_type": "code",
      "execution_count": null,
      "metadata": {
        "colab": {
          "base_uri": "https://localhost:8080/"
        },
        "id": "3hM4g4AhsykG",
        "outputId": "4035d2fc-f542-40a5-937b-e71b247cac5b"
      },
      "outputs": [
        {
          "data": {
            "text/plain": [
              "df8398246cee4979032d6630bcfa5058    1002\n",
              "994e355b4bacdab7a5115dd827c4c016    1002\n",
              "8121b235f0578a321d6a64383470619f    1002\n",
              "119a92ee61c74e162709aedb9953377c    1002\n",
              "e138a2b015c7906d224f157bc743f6ef    1002\n",
              "                                    ... \n",
              "708cee7508be849d7bad5b4dd6460e75    1002\n",
              "4f1f41887af256ba7f9b33ecd931a8e4    1002\n",
              "452ac3ab0817f0ce3d77ad646b0920d2    1002\n",
              "9d62a7ab2a5e5c29650f801d11662166    1002\n",
              "c63b6c6b8de09b542834e25a15dae747    1002\n",
              "Name: unit, Length: 632, dtype: int64"
            ]
          },
          "execution_count": 50,
          "metadata": {},
          "output_type": "execute_result"
        }
      ],
      "source": [
        "trainalldate['unit'].value_counts()"
      ]
    },
    {
      "cell_type": "code",
      "execution_count": null,
      "metadata": {
        "colab": {
          "base_uri": "https://localhost:8080/",
          "height": 514
        },
        "id": "t43czg8ktJLw",
        "outputId": "d8025e37-8d23-4abc-c2f8-c7a2ac631c18"
      },
      "outputs": [
        {
          "data": {
            "text/plain": [
              "<matplotlib.axes._subplots.AxesSubplot at 0x7f863e8f6090>"
            ]
          },
          "execution_count": 55,
          "metadata": {},
          "output_type": "execute_result"
        },
        {
          "data": {
            "image/png": "[encoded data removed]",
            "text/plain": [
              "<Figure size 1800x576 with 1 Axes>"
            ]
          },
          "metadata": {},
          "output_type": "display_data"
        }
      ],
      "source": [
        "plt.figure(figsize=(25,8))\n",
        "sns.lineplot(y =trainalldate[trainalldate.unit == 'c63b6c6b8de09b542834e25a15dae747'].qty,x =trainalldate[trainalldate.unit == 'c63b6c6b8de09b542834e25a15dae747'].ts)"
      ]
    },
    {
      "cell_type": "code",
      "execution_count": null,
      "metadata": {
        "colab": {
          "base_uri": "https://localhost:8080/",
          "height": 514
        },
        "id": "JG4FiqYI5Oro",
        "outputId": "c95d79d8-7e47-43c8-c291-97024e2f9069"
      },
      "outputs": [
        {
          "data": {
            "text/plain": [
              "<matplotlib.axes._subplots.AxesSubplot at 0x7f863ea4b310>"
            ]
          },
          "execution_count": 54,
          "metadata": {},
          "output_type": "execute_result"
        },
        {
          "data": {
            "image/png": "[encoded data removed]",
            "text/plain": [
              "<Figure size 1800x576 with 1 Axes>"
            ]
          },
          "metadata": {},
          "output_type": "display_data"
        }
      ],
      "source": [
        "plt.figure(figsize=(25,8))\n",
        "sns.lineplot(y =trainalldate[trainalldate.unit == 'df8398246cee4979032d6630bcfa5058'].qty,x =trainalldate[trainalldate.unit == 'df8398246cee4979032d6630bcfa5058'].ts)"
      ]
    },
    {
      "cell_type": "code",
      "execution_count": null,
      "metadata": {
        "colab": {
          "base_uri": "https://localhost:8080/"
        },
        "id": "SwPv-eEh6ChL",
        "outputId": "33b02731-5378-401a-c41f-dce416133ce8"
      },
      "outputs": [
        {
          "name": "stdout",
          "output_type": "stream",
          "text": [
            "<class 'pandas.core.frame.DataFrame'>\n",
            "Int64Index: 633264 entries, 0 to 1001\n",
            "Data columns (total 7 columns):\n",
            " #   Column           Non-Null Count   Dtype         \n",
            "---  ------           --------------   -----         \n",
            " 0   ts               633264 non-null  datetime64[ns]\n",
            " 1   unit             633264 non-null  object        \n",
            " 2   qty              284832 non-null  float64       \n",
            " 3   geography_level  284832 non-null  object        \n",
            " 4   geography        284832 non-null  object        \n",
            " 5   product_level    284832 non-null  object        \n",
            " 6   product          284832 non-null  object        \n",
            "dtypes: datetime64[ns](1), float64(1), object(5)\n",
            "memory usage: 38.7+ MB\n"
          ]
        }
      ],
      "source": [
        "trainalldate.info()"
      ]
    },
    {
      "cell_type": "code",
      "execution_count": null,
      "metadata": {
        "id": "sLiC0Vzn6npW"
      },
      "outputs": [],
      "source": []
    },
    {
      "cell_type": "markdown",
      "metadata": {
        "id": "-B_RypKH-ya1"
      },
      "source": [
        "# 构造特征\n",
        "\n"
      ]
    },
    {
      "cell_type": "code",
      "execution_count": null,
      "metadata": {
        "id": "8LUoxDx1759Z"
      },
      "outputs": [],
      "source": [
        "train = demand_train_A.copy()\n",
        "\n",
        "train['dayofweek'] = train['ts'].apply(lambda x : x.dayofweek)\n",
        "train['month'] = train['ts'].apply(lambda x : x.month)"
      ]
    },
    {
      "cell_type": "code",
      "execution_count": null,
      "metadata": {
        "id": "XXYxk2zqJh71"
      },
      "outputs": [],
      "source": [
        "def funcNewFeature(df, ts = np.nan):\n",
        "    df['last14max'] = np.nan\n",
        "    df['last14min'] = np.nan\n",
        "    df['last14std'] = np.nan\n",
        "    \n",
        "    for i in range(df.shape[0]):\n",
        "        currset = df.iloc[i:i+1,:]\n",
        "        \n",
        "        unit = currset['unit'].values[0]\n",
        "        ts = pd.to_datetime(currset['ts'].values[0])\n",
        "        last14set = df[(df.unit == unit) & (df.ts >= ts - datetime.timedelta(14)) & (df.ts < ts)]\n",
        "\n",
        "        df.loc[currset.index,'last14max'] = np.max(last14set['qty'])\n",
        "        df.loc[currset.index,'last14min'] = np.min(last14set['qty'])\n",
        "        df.loc[currset.index,'last14std'] = np.std(last14set['qty'])\n",
        "        print(currset.index)"
      ]
    },
    {
      "cell_type": "code",
      "execution_count": null,
      "metadata": {
        "colab": {
          "background_save": true
        },
        "id": "Qvl_b-Ly_DqE"
      },
      "outputs": [],
      "source": [
        "if 1:\n",
        "    train['last14max'] = np.nan\n",
        "    train['last14min'] = np.nan\n",
        "    train['last14std'] = np.nan\n",
        "    train['last14mean'] = np.nan\n",
        "    train['last14median'] = np.nan\n",
        "    for i in range(train.shape[0]):\n",
        "        currset = train.iloc[i:i+1,:]\n",
        "        \n",
        "        unit = currset['unit'].values[0]\n",
        "        ts = pd.to_datetime(currset['ts'].values[0])\n",
        "        last14set = train[(train.unit == unit) & (train.ts >= ts - datetime.timedelta(14)) & (train.ts < ts)]\n",
        "\n",
        "        train.loc[currset.index,'last14max'] = np.max(last14set['qty'])\n",
        "        train.loc[currset.index,'last14min'] = np.min(last14set['qty'])\n",
        "        train.loc[currset.index,'last14std'] = np.std(last14set['qty'])\n",
        "        train.loc[currset.index,'last14mean'] = np.mean(last14set['qty'])\n",
        "        train.loc[currset.index,'last14mean'] = np.median(last14set['qty'])\n",
        "        print(currset.index)\n",
        "    train.to_csv('/gdrive/MyDrive/datasci/Competitions/tianchi/531934需求预测及单级库存优化/train.csv')\n",
        "else:\n",
        "    train = pd.read_csv('/gdrive/MyDrive/datasci/Competitions/tianchi/531934需求预测及单级库存优化/train.csv')\n",
        "    train.drop(['Unnamed: 0'],axis=1,inplace=True)"
      ]
    },
    {
      "cell_type": "code",
      "execution_count": null,
      "metadata": {
        "id": "Moiptvy6wk2l"
      },
      "outputs": [],
      "source": [
        "\n",
        "train[train.last14max.isnull() ]"
      ]
    },
    {
      "cell_type": "code",
      "execution_count": null,
      "metadata": {
        "id": "4RRoaIj2wk2m"
      },
      "outputs": [],
      "source": [
        "train[train['unit'] == '06531cd4188630ce2497cd9983aacf5e']"
      ]
    },
    {
      "cell_type": "code",
      "execution_count": null,
      "metadata": {
        "id": "e7EmhplCwk2m"
      },
      "outputs": [],
      "source": [
        "import lightgbm as lgb"
      ]
    },
    {
      "cell_type": "code",
      "execution_count": null,
      "metadata": {
        "id": "E9GeI7OXGJFJ"
      },
      "outputs": [],
      "source": [
        "clf = lgb.LGBMRegressor(\n",
        "        learning_rate=0.01,\n",
        "        max_depth=-1,\n",
        "        n_estimators=5000,\n",
        "        boosting_type='gbdt',\n",
        "        random_state=2019,\n",
        "        objective='regression',\n",
        "    )\n",
        "\n",
        "clf.fit(X=trainByFitA, y=targetByFit[['Y']], eval_metric='MSE', verbose=50,categorical_feature=[''])\n",
        "\n",
        "test_predA = clf.predict(X_testA)"
      ]
    }
  ],
  "metadata": {
    "colab": {
      "collapsed_sections": [],
      "include_colab_link": true,
      "name": "Untitled0.ipynb",
      "provenance": []
    },
    "kernelspec": {
      "display_name": "Python 3",
      "name": "python3"
    },
    "language_info": {
      "codemirror_mode": {
        "name": "ipython",
        "version": 3
      },
      "file_extension": ".py",
      "mimetype": "text/x-python",
      "name": "python",
      "nbconvert_exporter": "python",
      "pygments_lexer": "ipython3",
      "version": "3.8.12"
    }
  },
  "nbformat": 4,
  "nbformat_minor": 0
}
